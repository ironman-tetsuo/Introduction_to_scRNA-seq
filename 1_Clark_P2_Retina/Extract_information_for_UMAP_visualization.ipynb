{
 "cells": [
  {
   "cell_type": "code",
   "execution_count": 4,
   "metadata": {},
   "outputs": [
    {
     "name": "stderr",
     "output_type": "stream",
     "text": [
      "\n",
      "Attaching package: ‘dplyr’\n",
      "\n",
      "\n",
      "The following objects are masked from ‘package:stats’:\n",
      "\n",
      "    filter, lag\n",
      "\n",
      "\n",
      "The following objects are masked from ‘package:base’:\n",
      "\n",
      "    intersect, setdiff, setequal, union\n",
      "\n",
      "\n"
     ]
    }
   ],
   "source": [
    "#Load the library\n",
    "library(Matrix)\n",
    "library(dplyr)\n",
    "library(Seurat)"
   ]
  },
  {
   "cell_type": "code",
   "execution_count": 5,
   "metadata": {},
   "outputs": [],
   "source": [
    "#Load the Seurat object\n",
    "dat <- readRDS(\"dat_Clark_P2_Retina_final.rds\")"
   ]
  },
  {
   "cell_type": "code",
   "execution_count": 11,
   "metadata": {},
   "outputs": [
    {
     "data": {
      "text/plain": [
       "An object of class Seurat \n",
       "27998 features across 12439 samples within 1 assay \n",
       "Active assay: RNA (27998 features)\n",
       " 2 dimensional reductions calculated: pca, umap"
      ]
     },
     "metadata": {},
     "output_type": "display_data"
    }
   ],
   "source": [
    "#Check the data\n",
    "dat"
   ]
  },
  {
   "cell_type": "code",
   "execution_count": 12,
   "metadata": {},
   "outputs": [
    {
     "data": {
      "text/html": [
       "<table>\n",
       "<caption>A matrix: 3 × 3 of type dbl</caption>\n",
       "<thead>\n",
       "\t<tr><th></th><th scope=col>P2_rep2.AAACCTGAGATAGGAG.1</th><th scope=col>P2_rep2.AAACCTGAGCATCATC.1</th><th scope=col>P2_rep2.AAACCTGAGCCTATGT.1</th></tr>\n",
       "</thead>\n",
       "<tbody>\n",
       "\t<tr><th scope=row>ENSMUSG00000051951</th><td>-0.03439574</td><td>-0.03439574</td><td>-0.03439574</td></tr>\n",
       "\t<tr><th scope=row>ENSMUSG00000089699</th><td> 0.00000000</td><td> 0.00000000</td><td> 0.00000000</td></tr>\n",
       "\t<tr><th scope=row>ENSMUSG00000102343</th><td>-0.01267933</td><td>-0.01267933</td><td>-0.01267933</td></tr>\n",
       "</tbody>\n",
       "</table>\n"
      ],
      "text/latex": [
       "A matrix: 3 × 3 of type dbl\n",
       "\\begin{tabular}{r|lll}\n",
       "  & P2\\_rep2.AAACCTGAGATAGGAG.1 & P2\\_rep2.AAACCTGAGCATCATC.1 & P2\\_rep2.AAACCTGAGCCTATGT.1\\\\\n",
       "\\hline\n",
       "\tENSMUSG00000051951 & -0.03439574 & -0.03439574 & -0.03439574\\\\\n",
       "\tENSMUSG00000089699 &  0.00000000 &  0.00000000 &  0.00000000\\\\\n",
       "\tENSMUSG00000102343 & -0.01267933 & -0.01267933 & -0.01267933\\\\\n",
       "\\end{tabular}\n"
      ],
      "text/markdown": [
       "\n",
       "A matrix: 3 × 3 of type dbl\n",
       "\n",
       "| <!--/--> | P2_rep2.AAACCTGAGATAGGAG.1 | P2_rep2.AAACCTGAGCATCATC.1 | P2_rep2.AAACCTGAGCCTATGT.1 |\n",
       "|---|---|---|---|\n",
       "| ENSMUSG00000051951 | -0.03439574 | -0.03439574 | -0.03439574 |\n",
       "| ENSMUSG00000089699 |  0.00000000 |  0.00000000 |  0.00000000 |\n",
       "| ENSMUSG00000102343 | -0.01267933 | -0.01267933 | -0.01267933 |\n",
       "\n"
      ],
      "text/plain": [
       "                   P2_rep2.AAACCTGAGATAGGAG.1 P2_rep2.AAACCTGAGCATCATC.1\n",
       "ENSMUSG00000051951 -0.03439574                -0.03439574               \n",
       "ENSMUSG00000089699  0.00000000                 0.00000000               \n",
       "ENSMUSG00000102343 -0.01267933                -0.01267933               \n",
       "                   P2_rep2.AAACCTGAGCCTATGT.1\n",
       "ENSMUSG00000051951 -0.03439574               \n",
       "ENSMUSG00000089699  0.00000000               \n",
       "ENSMUSG00000102343 -0.01267933               "
      ]
     },
     "metadata": {},
     "output_type": "display_data"
    }
   ],
   "source": [
    "dat[[\"RNA\"]]@scale.data[1:3,1:3]"
   ]
  },
  {
   "cell_type": "code",
   "execution_count": null,
   "metadata": {},
   "outputs": [],
   "source": [
    "#Write table as R object\n",
    "scaled_expression_matrix.txt <- Matrix(dat[[\"RNA\"]]@scale.data, sparse = TRUE)\n",
    "writeMM(scaled_expression_matrix.txt, file=\"./data/scaled_expression_matrix.txt\")"
   ]
  },
  {
   "cell_type": "code",
   "execution_count": null,
   "metadata": {},
   "outputs": [],
   "source": [
    "#Write UMAP coordinates\n",
    "write.table(dat@reductions$umap@cell.embeddings, file=\"./data/umap_result.txt\", header=T, quote=T)"
   ]
  }
 ],
 "metadata": {
  "kernelspec": {
   "display_name": "R",
   "language": "R",
   "name": "ir"
  },
  "language_info": {
   "codemirror_mode": "r",
   "file_extension": ".r",
   "mimetype": "text/x-r-source",
   "name": "R",
   "pygments_lexer": "r",
   "version": "3.6.1"
  }
 },
 "nbformat": 4,
 "nbformat_minor": 2
}
