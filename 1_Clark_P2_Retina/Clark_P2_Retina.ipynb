{
 "cells": [
  {
   "cell_type": "code",
   "execution_count": 2,
   "metadata": {},
   "outputs": [],
   "source": [
    "#Load the library\n",
    "library(Matrix)"
   ]
  },
  {
   "cell_type": "markdown",
   "metadata": {},
   "source": [
    "Load data"
   ]
  },
  {
   "cell_type": "code",
   "execution_count": null,
   "metadata": {},
   "outputs": [],
   "source": [
    "#Load the expression matrix\n",
    "dat_count <- readMM(\"10x_mouse_retina_development.mtx\")\n",
    "#Load the each coordinate of cells in three dimensional UMAP space\n",
    "dat_phenotype <- read.csv(\"10x_mouse_retina_development_phenotype.csv\", header=T, row.names=1, stringsAsFactors=F)\n",
    "#Load the annotation file\n",
    "dat_feature <- read.csv(\"10x_mouse_retina_development_feature.csv\", header=T, stringsAsFactors=F)"
   ]
  },
  {
   "cell_type": "code",
   "execution_count": 6,
   "metadata": {},
   "outputs": [
    {
     "data": {
      "text/html": [
       "<ol class=list-inline>\n",
       "\t<li>27998</li>\n",
       "\t<li>107052</li>\n",
       "</ol>\n"
      ],
      "text/latex": [
       "\\begin{enumerate*}\n",
       "\\item 27998\n",
       "\\item 107052\n",
       "\\end{enumerate*}\n"
      ],
      "text/markdown": [
       "1. 27998\n",
       "2. 107052\n",
       "\n",
       "\n"
      ],
      "text/plain": [
       "[1]  27998 107052"
      ]
     },
     "metadata": {},
     "output_type": "display_data"
    },
    {
     "data": {
      "text/html": [
       "<ol class=list-inline>\n",
       "\t<li>107052</li>\n",
       "\t<li>100</li>\n",
       "</ol>\n"
      ],
      "text/latex": [
       "\\begin{enumerate*}\n",
       "\\item 107052\n",
       "\\item 100\n",
       "\\end{enumerate*}\n"
      ],
      "text/markdown": [
       "1. 107052\n",
       "2. 100\n",
       "\n",
       "\n"
      ],
      "text/plain": [
       "[1] 107052    100"
      ]
     },
     "metadata": {},
     "output_type": "display_data"
    },
    {
     "ename": "ERROR",
     "evalue": "Error in eval(expr, envir, enclos):  オブジェクト 'dat_feature' がありません \n",
     "output_type": "error",
     "traceback": [
      "Error in eval(expr, envir, enclos):  オブジェクト 'dat_feature' がありません \nTraceback:\n"
     ]
    }
   ],
   "source": [
    "#Check the data dimensions\n",
    "dim(dat_count)\n",
    "dim(dat_phenotype)\n",
    "dim(dat_feature)"
   ]
  },
  {
   "cell_type": "code",
   "execution_count": null,
   "metadata": {},
   "outputs": [],
   "source": []
  }
 ],
 "metadata": {
  "kernelspec": {
   "display_name": "R",
   "language": "R",
   "name": "ir"
  },
  "language_info": {
   "codemirror_mode": "r",
   "file_extension": ".r",
   "mimetype": "text/x-r-source",
   "name": "R",
   "pygments_lexer": "r",
   "version": "3.5.2"
  }
 },
 "nbformat": 4,
 "nbformat_minor": 2
}
