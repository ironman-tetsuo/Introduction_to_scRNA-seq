{
 "cells": [
  {
   "cell_type": "code",
   "execution_count": 10,
   "metadata": {},
   "outputs": [],
   "source": [
    "#Load the library\n",
    "library(Matrix)\n",
    "library(dplyr)\n",
    "library(Seurat)"
   ]
  },
  {
   "cell_type": "code",
   "execution_count": 7,
   "metadata": {},
   "outputs": [],
   "source": [
    "#Load the expression matrix\n",
    "dat_count <- readMM(\"10x_mouse_retina_development.mtx\")\n",
    "#Load the each coordinate of cells in three dimensional UMAP space\n",
    "dat_phenotype <- read.csv(\"10x_mouse_retina_development_phenotype.csv\", header=T, row.names=1, stringsAsFactors=F)\n",
    "#Load the annotation file\n",
    "dat_feature <- read.csv(\"10x_mouse_retina_development_feature.csv\", header=T, stringsAsFactors=F)"
   ]
  },
  {
   "cell_type": "code",
   "execution_count": 8,
   "metadata": {},
   "outputs": [
    {
     "data": {
      "text/html": [
       "<ol class=list-inline>\n",
       "\t<li>27998</li>\n",
       "\t<li>107052</li>\n",
       "</ol>\n"
      ],
      "text/latex": [
       "\\begin{enumerate*}\n",
       "\\item 27998\n",
       "\\item 107052\n",
       "\\end{enumerate*}\n"
      ],
      "text/markdown": [
       "1. 27998\n",
       "2. 107052\n",
       "\n",
       "\n"
      ],
      "text/plain": [
       "[1]  27998 107052"
      ]
     },
     "metadata": {},
     "output_type": "display_data"
    },
    {
     "data": {
      "text/html": [
       "<ol class=list-inline>\n",
       "\t<li>107052</li>\n",
       "\t<li>100</li>\n",
       "</ol>\n"
      ],
      "text/latex": [
       "\\begin{enumerate*}\n",
       "\\item 107052\n",
       "\\item 100\n",
       "\\end{enumerate*}\n"
      ],
      "text/markdown": [
       "1. 107052\n",
       "2. 100\n",
       "\n",
       "\n"
      ],
      "text/plain": [
       "[1] 107052    100"
      ]
     },
     "metadata": {},
     "output_type": "display_data"
    },
    {
     "data": {
      "text/html": [
       "<ol class=list-inline>\n",
       "\t<li>27998</li>\n",
       "\t<li>8</li>\n",
       "</ol>\n"
      ],
      "text/latex": [
       "\\begin{enumerate*}\n",
       "\\item 27998\n",
       "\\item 8\n",
       "\\end{enumerate*}\n"
      ],
      "text/markdown": [
       "1. 27998\n",
       "2. 8\n",
       "\n",
       "\n"
      ],
      "text/plain": [
       "[1] 27998     8"
      ]
     },
     "metadata": {},
     "output_type": "display_data"
    }
   ],
   "source": [
    "#Check the data dimensions\n",
    "dim(dat_count)\n",
    "dim(dat_phenotype)\n",
    "dim(dat_feature)"
   ]
  },
  {
   "cell_type": "code",
   "execution_count": 20,
   "metadata": {},
   "outputs": [
    {
     "data": {
      "text/plain": [
       "6 x 107052 sparse Matrix of class \"dgTMatrix\"\n",
       "                                                                               \n",
       "[1,] . . . . . . . . . . . . . . . . . . . . . . . . . . . . . . . . . . ......\n",
       "[2,] . . . . . . . . . . . . . . . . . . . . . . . . . . . . . . . . . . ......\n",
       "[3,] . . . . . . . . . . . . . . . . . . . . . . . . . . . . . . . . . . ......\n",
       "[4,] . . . . . . . . . . . . . . . . . . . . . . . . . . . . . . . . . . ......\n",
       "[5,] . . . . . . . . . . . . . . . . . . . . . . . . . . . . . . . . . . ......\n",
       "[6,] . . . . . . . . . . . . . . . . . . . . . . 1 . . . . . . . . . . . ......\n",
       "\n",
       " .....suppressing columns in show(); maybe adjust 'options(max.print= *, width = *)'\n",
       " .............................."
      ]
     },
     "metadata": {},
     "output_type": "display_data"
    }
   ],
   "source": [
    "#Show the subset of the data\n",
    "head(dat_count)"
   ]
  },
  {
   "cell_type": "code",
   "execution_count": 21,
   "metadata": {},
   "outputs": [
    {
     "data": {
      "text/html": [
       "<table>\n",
       "<caption>A data.frame: 6 × 100</caption>\n",
       "<thead>\n",
       "\t<tr><th></th><th scope=col>barcode</th><th scope=col>sample</th><th scope=col>age</th><th scope=col>Size_Factor</th><th scope=col>num_genes_expressed</th><th scope=col>Total_mRNAs</th><th scope=col>CellType</th><th scope=col>raw_cluster</th><th scope=col>new_CellType</th><th scope=col>largeVis1</th><th scope=col>⋯</th><th scope=col>Patt.71</th><th scope=col>Patt.72</th><th scope=col>Patt.73</th><th scope=col>Patt.74</th><th scope=col>Patt.75</th><th scope=col>Patt.76</th><th scope=col>Patt.77</th><th scope=col>Patt.78</th><th scope=col>Patt.79</th><th scope=col>Patt.80</th></tr>\n",
       "\t<tr><th></th><th scope=col>&lt;chr&gt;</th><th scope=col>&lt;chr&gt;</th><th scope=col>&lt;chr&gt;</th><th scope=col>&lt;dbl&gt;</th><th scope=col>&lt;int&gt;</th><th scope=col>&lt;int&gt;</th><th scope=col>&lt;chr&gt;</th><th scope=col>&lt;int&gt;</th><th scope=col>&lt;chr&gt;</th><th scope=col>&lt;dbl&gt;</th><th scope=col>⋯</th><th scope=col>&lt;dbl&gt;</th><th scope=col>&lt;dbl&gt;</th><th scope=col>&lt;dbl&gt;</th><th scope=col>&lt;dbl&gt;</th><th scope=col>&lt;dbl&gt;</th><th scope=col>&lt;dbl&gt;</th><th scope=col>&lt;dbl&gt;</th><th scope=col>&lt;dbl&gt;</th><th scope=col>&lt;dbl&gt;</th><th scope=col>&lt;dbl&gt;</th></tr>\n",
       "</thead>\n",
       "<tbody>\n",
       "\t<tr><th scope=row>E11.AAACCTGAGATGTAAC.1</th><td>E11.AAACCTGAGATGTAAC-1</td><td>E11</td><td>E11</td><td>1.733369</td><td>1549</td><td>2794</td><td>RPCs          </td><td>32</td><td>Early RPCs                                            </td><td> 2.2338175</td><td>⋯</td><td>  1.000000</td><td> 1.000000</td><td> 1.000000</td><td>1.000000</td><td>1.000000</td><td> 1.000000</td><td>1.000000</td><td>  1.000000</td><td>1.000000</td><td>1.000000</td></tr>\n",
       "\t<tr><th scope=row>E11.AAACCTGAGGCAATTA.1</th><td>E11.AAACCTGAGGCAATTA-1</td><td>E11</td><td>E11</td><td>2.201143</td><td>1848</td><td>3548</td><td>RPCs          </td><td> 9</td><td>Early RPCs                                            </td><td>-0.6808101</td><td>⋯</td><td>  1.008011</td><td>21.921519</td><td>16.938427</td><td>1.000011</td><td>1.000180</td><td>60.656578</td><td>1.002151</td><td> 37.660817</td><td>1.000047</td><td>1.000198</td></tr>\n",
       "\t<tr><th scope=row>E11.AAACCTGAGTAGCGGT.1</th><td>E11.AAACCTGAGTAGCGGT-1</td><td>E11</td><td>E11</td><td>2.381057</td><td>1935</td><td>3838</td><td>RPCs          </td><td>24</td><td>RPE/Margin/Periocular Mesenchyme/Lens Epithelial Cells</td><td> 1.6031758</td><td>⋯</td><td>250.307592</td><td> 1.004293</td><td> 1.000764</td><td>1.002577</td><td>1.000022</td><td> 1.000262</td><td>1.000022</td><td>  1.170338</td><td>1.001827</td><td>1.000559</td></tr>\n",
       "\t<tr><th scope=row>E11.AAACCTGAGTGGAGTC.1</th><td>E11.AAACCTGAGTGGAGTC-1</td><td>E11</td><td>E11</td><td>2.861238</td><td>2139</td><td>4612</td><td>RPCs          </td><td> 9</td><td>Early RPCs                                            </td><td>-0.7359965</td><td>⋯</td><td>  1.016430</td><td>50.007646</td><td> 1.011516</td><td>1.002841</td><td>1.000161</td><td>41.925894</td><td>1.001989</td><td>  8.626739</td><td>1.021516</td><td>1.001392</td></tr>\n",
       "\t<tr><th scope=row>E11.AAACCTGCAAGTTGTC.1</th><td>E11.AAACCTGCAAGTTGTC-1</td><td>E11</td><td>E11</td><td>2.044805</td><td>1723</td><td>3296</td><td>Lens Epithelia</td><td>74</td><td>RPE/Margin/Periocular Mesenchyme/Lens Epithelial Cells</td><td> 2.7458238</td><td>⋯</td><td>  1.000668</td><td>19.482778</td><td> 1.000139</td><td>1.018392</td><td>1.000059</td><td> 1.000044</td><td>1.010160</td><td>  1.000184</td><td>1.000493</td><td>3.845403</td></tr>\n",
       "\t<tr><th scope=row>E11.AAACCTGCACCCATTC.1</th><td>E11.AAACCTGCACCCATTC-1</td><td>E11</td><td>E11</td><td>2.280553</td><td>1806</td><td>3676</td><td>RPCs          </td><td>32</td><td>Early RPCs                                            </td><td> 1.9579134</td><td>⋯</td><td>  1.000071</td><td> 1.211624</td><td> 1.006995</td><td>1.000126</td><td>1.000037</td><td> 1.001017</td><td>1.003272</td><td>248.890062</td><td>1.000286</td><td>1.000414</td></tr>\n",
       "</tbody>\n",
       "</table>\n"
      ],
      "text/latex": [
       "A data.frame: 6 × 100\n",
       "\\begin{tabular}{r|llllllllllllllllllllllllllllllllllllllllllllllllllllllllllllllllllllllllllllllllllllllllllllllllllll}\n",
       "  & barcode & sample & age & Size\\_Factor & num\\_genes\\_expressed & Total\\_mRNAs & CellType & raw\\_cluster & new\\_CellType & largeVis1 & largeVis2 & largeVis3 & newCellType & umap\\_cluster & umap\\_coord1 & umap\\_coord2 & umap\\_coord3 & umap\\_CellType & used\\_for\\_pseudotime & pattern\\_match & Patt.1 & Patt.2 & Patt.3 & Patt.4 & Patt.5 & Patt.6 & Patt.7 & Patt.8 & Patt.9 & Patt.10 & Patt.11 & Patt.12 & Patt.13 & Patt.14 & Patt.15 & Patt.16 & Patt.17 & Patt.18 & Patt.19 & Patt.20 & Patt.21 & Patt.22 & Patt.23 & Patt.24 & Patt.25 & Patt.26 & Patt.27 & Patt.28 & Patt.29 & Patt.30 & Patt.31 & Patt.32 & Patt.33 & Patt.34 & Patt.35 & Patt.36 & Patt.37 & Patt.38 & Patt.39 & Patt.40 & Patt.41 & Patt.42 & Patt.43 & Patt.44 & Patt.45 & Patt.46 & Patt.47 & Patt.48 & Patt.49 & Patt.50 & Patt.51 & Patt.52 & Patt.53 & Patt.54 & Patt.55 & Patt.56 & Patt.57 & Patt.58 & Patt.59 & Patt.60 & Patt.61 & Patt.62 & Patt.63 & Patt.64 & Patt.65 & Patt.66 & Patt.67 & Patt.68 & Patt.69 & Patt.70 & Patt.71 & Patt.72 & Patt.73 & Patt.74 & Patt.75 & Patt.76 & Patt.77 & Patt.78 & Patt.79 & Patt.80\\\\\n",
       "  & <chr> & <chr> & <chr> & <dbl> & <int> & <int> & <chr> & <int> & <chr> & <dbl> & <dbl> & <dbl> & <lgl> & <int> & <dbl> & <dbl> & <dbl> & <chr> & <lgl> & <lgl> & <dbl> & <dbl> & <dbl> & <dbl> & <dbl> & <dbl> & <dbl> & <dbl> & <dbl> & <dbl> & <dbl> & <dbl> & <dbl> & <dbl> & <dbl> & <dbl> & <dbl> & <dbl> & <dbl> & <dbl> & <dbl> & <dbl> & <dbl> & <dbl> & <dbl> & <dbl> & <dbl> & <dbl> & <dbl> & <dbl> & <dbl> & <dbl> & <dbl> & <dbl> & <dbl> & <dbl> & <dbl> & <dbl> & <dbl> & <dbl> & <dbl> & <dbl> & <dbl> & <dbl> & <dbl> & <dbl> & <dbl> & <dbl> & <dbl> & <dbl> & <dbl> & <dbl> & <dbl> & <dbl> & <dbl> & <dbl> & <dbl> & <dbl> & <dbl> & <dbl> & <dbl> & <dbl> & <dbl> & <dbl> & <dbl> & <dbl> & <dbl> & <dbl> & <dbl> & <dbl> & <dbl> & <dbl> & <dbl> & <dbl> & <dbl> & <dbl> & <dbl> & <dbl> & <dbl> & <dbl>\\\\\n",
       "\\hline\n",
       "\tE11.AAACCTGAGATGTAAC.1 & E11.AAACCTGAGATGTAAC-1 & E11 & E11 & 1.733369 & 1549 & 2794 & RPCs           & 32 & Early RPCs                                             &  2.2338175 & -2.888105 & 19.60987 & NA & 130 & 3.581455 & -4.245770 & -3.752502 & Early RPCs & FALSE & TRUE & 1.000000 & 1.000000 &  1.000000 & 1.000000 & 1.000000 & 1.000000 & 1.000000 & 1.000000 & 1.000000 & 1.000000 & 1.000000 & 1.000000 &   1.000000 &  1.000000 & 1.000000 & 1.000000 & 1.000000 & 1.000000 & 1.000000 &  1.000000 & 1.000000 & 1.000000 & 1.000000 & 1.000000 & 1.000000 & 1.000000 & 1.000000 &   1.000000 & 1.000000 & 1.000000 &   1.000000 & 1.000000 &    1.000000 & 1.000000 & 1.000000 & 1.000000e+00 & 1.000000 & 1.000000 & 1.000000 &   1.000000 & 1.000000 & 1.000000 & 1.000000 & 1.000000 &   1.000000 &  1.000000 &  1.000000 &   1.000000 &   1.000000 & 1.000000 &  1.000000 & 1.000000 & 1.000000 &  1.000000 &  1.000000 & 1.000000 &  1.000000 & 1.000000 & 1.000000 &   1.000000 &  1.000000 &    1.000000 &  1.000000 & 1.000000 &  1.000000 & 1.000000 & 1.000000 &  1.000000 & 1.000000 & 1.000000 &   1.000000 &  1.000000 &  1.000000 & 1.000000 & 1.000000 &  1.000000 & 1.000000 &   1.000000 & 1.000000 & 1.000000\\\\\n",
       "\tE11.AAACCTGAGGCAATTA.1 & E11.AAACCTGAGGCAATTA-1 & E11 & E11 & 2.201143 & 1848 & 3548 & RPCs           &  9 & Early RPCs                                             & -0.6808101 & -1.946963 & 20.61229 & NA & 103 & 2.634151 & -5.016846 & -3.926956 & Early RPCs & FALSE & TRUE & 1.000762 & 1.000171 &  1.002147 & 1.001941 & 1.001236 & 1.000083 & 1.000484 & 1.000076 & 1.000271 & 1.000242 & 1.001295 & 1.000144 &   1.004432 & 16.514356 & 1.052015 & 1.000325 & 1.000409 & 1.000235 & 1.000114 &  1.000062 & 1.000939 & 1.001741 & 1.004400 & 1.001093 & 1.000672 & 1.686134 & 1.004525 &   1.001740 & 1.004711 & 1.000156 &  55.075009 & 1.000039 &    4.891875 & 1.000697 & 1.053831 & 1.050110e+05 & 1.000692 & 1.322862 & 1.000063 & 699.297016 & 1.000031 & 1.000161 & 1.000179 & 1.000449 &   1.003569 &  1.000011 &  1.023211 &   1.002334 &   2.005561 & 1.001373 & 31.881427 & 1.002098 & 1.001720 &  1.000051 & 38.772529 & 1.000323 &  1.001654 & 1.001420 & 1.000638 &  11.026306 &  1.000087 & 1395.740854 &  1.000672 & 1.000750 & 16.648525 & 1.000159 & 1.001119 &  1.000123 & 1.000695 & 1.195567 &   1.008011 & 21.921519 & 16.938427 & 1.000011 & 1.000180 & 60.656578 & 1.002151 &  37.660817 & 1.000047 & 1.000198\\\\\n",
       "\tE11.AAACCTGAGTAGCGGT.1 & E11.AAACCTGAGTAGCGGT-1 & E11 & E11 & 2.381057 & 1935 & 3838 & RPCs           & 24 & RPE/Margin/Periocular Mesenchyme/Lens Epithelial Cells &  1.6031758 & -3.168796 & 21.13916 & NA & 130 & 3.268848 & -3.967177 & -3.942664 & Early RPCs & FALSE & TRUE & 1.000047 & 1.000054 & 11.883780 & 1.000021 & 1.000248 & 1.000490 & 1.000100 & 1.000016 & 1.000574 & 1.000802 & 1.000090 & 1.000071 &   2.942834 & 54.521430 & 1.000575 & 1.000886 & 1.000692 & 1.000029 & 1.000078 &  1.712049 & 1.000826 & 1.000091 & 3.285841 & 1.001857 & 1.001261 & 2.517174 & 1.003912 &   1.071111 & 1.003786 & 1.001147 &   1.678876 & 1.000029 &    3.103900 & 1.000082 & 1.000593 & 2.097954e+04 & 1.000054 & 9.579450 & 1.000917 &   1.161306 & 1.000203 & 1.000031 & 1.000061 & 1.000086 & 190.224494 & 55.689213 &  1.000016 & 107.899336 &   1.451158 & 1.000214 &  8.789660 & 1.000289 & 1.000209 &  1.041886 &  1.001517 & 1.000772 &  1.000153 & 1.000146 & 1.000040 &   1.000008 &  1.000018 &  217.404367 & 36.904918 & 1.035548 & 17.513951 & 1.008758 & 1.000074 &  9.188149 & 1.000040 & 1.000005 & 250.307592 &  1.004293 &  1.000764 & 1.002577 & 1.000022 &  1.000262 & 1.000022 &   1.170338 & 1.001827 & 1.000559\\\\\n",
       "\tE11.AAACCTGAGTGGAGTC.1 & E11.AAACCTGAGTGGAGTC-1 & E11 & E11 & 2.861238 & 2139 & 4612 & RPCs           &  9 & Early RPCs                                             & -0.7359965 & -2.757505 & 20.04523 & NA & 115 & 3.737625 & -4.926516 & -4.012058 & Early RPCs &  TRUE & TRUE & 1.000399 & 1.000078 &  1.000012 & 1.000059 & 1.000448 & 1.336020 & 1.000158 & 1.000168 & 1.001708 & 1.004081 & 1.002415 & 1.000696 &   1.647200 &  4.469594 & 1.001322 & 1.000513 & 1.001191 & 1.000123 & 1.000408 & 63.632762 & 1.001514 & 1.001870 & 4.928886 & 1.000041 & 1.000737 & 1.575221 & 1.000558 & 128.245354 & 1.039903 & 1.062246 & 274.056678 & 1.000199 & 1193.794125 & 1.000768 & 1.001107 & 3.233335e+03 & 1.000696 & 3.497756 & 1.001428 &   1.000392 & 1.000471 & 1.000453 & 1.000285 & 1.000382 &   1.005408 & 12.456360 &  1.000466 &   1.007010 &   1.029553 & 1.000146 &  1.000027 & 1.010075 & 1.000611 &  1.000029 &  1.000706 & 1.000699 &  1.000449 & 1.000791 & 1.001056 & 155.646685 &  1.000022 &    8.341678 &  1.042521 & 1.001164 &  1.009456 & 3.591612 & 1.000074 &  1.000747 & 1.000347 & 8.984853 &   1.016430 & 50.007646 &  1.011516 & 1.002841 & 1.000161 & 41.925894 & 1.001989 &   8.626739 & 1.021516 & 1.001392\\\\\n",
       "\tE11.AAACCTGCAAGTTGTC.1 & E11.AAACCTGCAAGTTGTC-1 & E11 & E11 & 2.044805 & 1723 & 3296 & Lens Epithelia & 74 & RPE/Margin/Periocular Mesenchyme/Lens Epithelial Cells &  2.7458238 & -2.798006 & 24.43418 & NA &  77 & 3.857854 & -4.027292 & -2.717437 & Early RPCs & FALSE & TRUE & 1.000288 & 1.001005 &  1.000108 & 1.000222 & 1.000334 & 1.000083 & 1.000526 & 1.000025 & 1.000027 & 1.000040 & 1.003652 & 1.006564 & 964.124203 &  1.000089 & 1.000733 & 1.000422 & 1.000463 & 1.000170 & 1.000833 &  1.373414 & 1.000818 & 1.003502 & 1.026392 & 1.000029 & 1.000051 & 1.000172 & 1.000114 & 336.864251 & 3.250362 & 1.000130 &   6.071654 & 1.000107 &    1.000381 & 1.063410 & 1.000435 & 1.002541e+00 & 1.000113 & 4.069283 & 1.001110 &   1.085482 & 1.001386 & 1.003386 & 1.000726 & 1.016053 &   1.000992 &  1.000067 &  1.000647 &   1.469589 &   1.045640 & 1.001588 & 67.814615 & 1.000053 & 1.000824 & 11.728743 &  1.000211 & 1.000569 &  1.001170 & 1.001443 & 2.433970 &   5.925946 & 13.796558 &  941.697694 &  1.000016 & 1.000067 & 34.452656 & 1.000022 & 1.017215 & 49.880500 & 1.000654 & 1.000029 &   1.000668 & 19.482778 &  1.000139 & 1.018392 & 1.000059 &  1.000044 & 1.010160 &   1.000184 & 1.000493 & 3.845403\\\\\n",
       "\tE11.AAACCTGCACCCATTC.1 & E11.AAACCTGCACCCATTC-1 & E11 & E11 & 2.280553 & 1806 & 3676 & RPCs           & 32 & Early RPCs                                             &  1.9579134 & -3.127376 & 19.32578 & NA & 109 & 3.386985 & -3.678844 & -2.939268 & Early RPCs &  TRUE & TRUE & 1.000056 & 1.000054 &  4.585540 & 1.000026 & 1.000063 & 1.000082 & 1.000020 & 1.000022 & 1.000635 & 1.000241 & 1.000903 & 1.000010 &   2.239460 & 28.985552 & 1.000162 & 1.001538 & 1.004579 & 1.000046 & 1.000052 &  1.010096 & 1.018069 & 1.001801 & 1.783292 & 1.000807 & 1.000127 & 1.001024 & 1.000063 & 386.600650 & 1.928912 & 1.680526 &   1.615585 & 1.000054 &  937.776720 & 1.001662 & 1.000114 & 1.001496e+00 & 1.000753 & 5.831243 & 1.000089 &   1.068170 & 1.000039 & 1.000031 & 1.000027 & 1.000034 &  29.009266 & 89.719624 & 18.751949 &  26.591929 & 134.729282 & 1.000034 &  1.000012 & 1.028841 & 1.000052 &  1.000008 &  2.756676 & 1.000088 & 15.046426 & 1.000104 & 1.001568 &   1.020520 &  1.000066 &    1.491905 &  1.967845 & 1.000381 &  1.028705 & 1.000051 & 1.000021 & 25.009931 & 1.000039 & 1.000059 &   1.000071 &  1.211624 &  1.006995 & 1.000126 & 1.000037 &  1.001017 & 1.003272 & 248.890062 & 1.000286 & 1.000414\\\\\n",
       "\\end{tabular}\n"
      ],
      "text/markdown": [
       "\n",
       "A data.frame: 6 × 100\n",
       "\n",
       "| <!--/--> | barcode &lt;chr&gt; | sample &lt;chr&gt; | age &lt;chr&gt; | Size_Factor &lt;dbl&gt; | num_genes_expressed &lt;int&gt; | Total_mRNAs &lt;int&gt; | CellType &lt;chr&gt; | raw_cluster &lt;int&gt; | new_CellType &lt;chr&gt; | largeVis1 &lt;dbl&gt; | ⋯ ⋯ | Patt.71 &lt;dbl&gt; | Patt.72 &lt;dbl&gt; | Patt.73 &lt;dbl&gt; | Patt.74 &lt;dbl&gt; | Patt.75 &lt;dbl&gt; | Patt.76 &lt;dbl&gt; | Patt.77 &lt;dbl&gt; | Patt.78 &lt;dbl&gt; | Patt.79 &lt;dbl&gt; | Patt.80 &lt;dbl&gt; |\n",
       "|---|---|---|---|---|---|---|---|---|---|---|---|---|---|---|---|---|---|---|---|---|---|\n",
       "| E11.AAACCTGAGATGTAAC.1 | E11.AAACCTGAGATGTAAC-1 | E11 | E11 | 1.733369 | 1549 | 2794 | RPCs           | 32 | Early RPCs                                             |  2.2338175 | ⋯ |   1.000000 |  1.000000 |  1.000000 | 1.000000 | 1.000000 |  1.000000 | 1.000000 |   1.000000 | 1.000000 | 1.000000 |\n",
       "| E11.AAACCTGAGGCAATTA.1 | E11.AAACCTGAGGCAATTA-1 | E11 | E11 | 2.201143 | 1848 | 3548 | RPCs           |  9 | Early RPCs                                             | -0.6808101 | ⋯ |   1.008011 | 21.921519 | 16.938427 | 1.000011 | 1.000180 | 60.656578 | 1.002151 |  37.660817 | 1.000047 | 1.000198 |\n",
       "| E11.AAACCTGAGTAGCGGT.1 | E11.AAACCTGAGTAGCGGT-1 | E11 | E11 | 2.381057 | 1935 | 3838 | RPCs           | 24 | RPE/Margin/Periocular Mesenchyme/Lens Epithelial Cells |  1.6031758 | ⋯ | 250.307592 |  1.004293 |  1.000764 | 1.002577 | 1.000022 |  1.000262 | 1.000022 |   1.170338 | 1.001827 | 1.000559 |\n",
       "| E11.AAACCTGAGTGGAGTC.1 | E11.AAACCTGAGTGGAGTC-1 | E11 | E11 | 2.861238 | 2139 | 4612 | RPCs           |  9 | Early RPCs                                             | -0.7359965 | ⋯ |   1.016430 | 50.007646 |  1.011516 | 1.002841 | 1.000161 | 41.925894 | 1.001989 |   8.626739 | 1.021516 | 1.001392 |\n",
       "| E11.AAACCTGCAAGTTGTC.1 | E11.AAACCTGCAAGTTGTC-1 | E11 | E11 | 2.044805 | 1723 | 3296 | Lens Epithelia | 74 | RPE/Margin/Periocular Mesenchyme/Lens Epithelial Cells |  2.7458238 | ⋯ |   1.000668 | 19.482778 |  1.000139 | 1.018392 | 1.000059 |  1.000044 | 1.010160 |   1.000184 | 1.000493 | 3.845403 |\n",
       "| E11.AAACCTGCACCCATTC.1 | E11.AAACCTGCACCCATTC-1 | E11 | E11 | 2.280553 | 1806 | 3676 | RPCs           | 32 | Early RPCs                                             |  1.9579134 | ⋯ |   1.000071 |  1.211624 |  1.006995 | 1.000126 | 1.000037 |  1.001017 | 1.003272 | 248.890062 | 1.000286 | 1.000414 |\n",
       "\n"
      ],
      "text/plain": [
       "                       barcode                sample age Size_Factor\n",
       "E11.AAACCTGAGATGTAAC.1 E11.AAACCTGAGATGTAAC-1 E11    E11 1.733369   \n",
       "E11.AAACCTGAGGCAATTA.1 E11.AAACCTGAGGCAATTA-1 E11    E11 2.201143   \n",
       "E11.AAACCTGAGTAGCGGT.1 E11.AAACCTGAGTAGCGGT-1 E11    E11 2.381057   \n",
       "E11.AAACCTGAGTGGAGTC.1 E11.AAACCTGAGTGGAGTC-1 E11    E11 2.861238   \n",
       "E11.AAACCTGCAAGTTGTC.1 E11.AAACCTGCAAGTTGTC-1 E11    E11 2.044805   \n",
       "E11.AAACCTGCACCCATTC.1 E11.AAACCTGCACCCATTC-1 E11    E11 2.280553   \n",
       "                       num_genes_expressed Total_mRNAs CellType      \n",
       "E11.AAACCTGAGATGTAAC.1 1549                2794        RPCs          \n",
       "E11.AAACCTGAGGCAATTA.1 1848                3548        RPCs          \n",
       "E11.AAACCTGAGTAGCGGT.1 1935                3838        RPCs          \n",
       "E11.AAACCTGAGTGGAGTC.1 2139                4612        RPCs          \n",
       "E11.AAACCTGCAAGTTGTC.1 1723                3296        Lens Epithelia\n",
       "E11.AAACCTGCACCCATTC.1 1806                3676        RPCs          \n",
       "                       raw_cluster\n",
       "E11.AAACCTGAGATGTAAC.1 32         \n",
       "E11.AAACCTGAGGCAATTA.1  9         \n",
       "E11.AAACCTGAGTAGCGGT.1 24         \n",
       "E11.AAACCTGAGTGGAGTC.1  9         \n",
       "E11.AAACCTGCAAGTTGTC.1 74         \n",
       "E11.AAACCTGCACCCATTC.1 32         \n",
       "                       new_CellType                                          \n",
       "E11.AAACCTGAGATGTAAC.1 Early RPCs                                            \n",
       "E11.AAACCTGAGGCAATTA.1 Early RPCs                                            \n",
       "E11.AAACCTGAGTAGCGGT.1 RPE/Margin/Periocular Mesenchyme/Lens Epithelial Cells\n",
       "E11.AAACCTGAGTGGAGTC.1 Early RPCs                                            \n",
       "E11.AAACCTGCAAGTTGTC.1 RPE/Margin/Periocular Mesenchyme/Lens Epithelial Cells\n",
       "E11.AAACCTGCACCCATTC.1 Early RPCs                                            \n",
       "                       largeVis1  ⋯ Patt.71    Patt.72   Patt.73   Patt.74 \n",
       "E11.AAACCTGAGATGTAAC.1  2.2338175 ⋯   1.000000  1.000000  1.000000 1.000000\n",
       "E11.AAACCTGAGGCAATTA.1 -0.6808101 ⋯   1.008011 21.921519 16.938427 1.000011\n",
       "E11.AAACCTGAGTAGCGGT.1  1.6031758 ⋯ 250.307592  1.004293  1.000764 1.002577\n",
       "E11.AAACCTGAGTGGAGTC.1 -0.7359965 ⋯   1.016430 50.007646  1.011516 1.002841\n",
       "E11.AAACCTGCAAGTTGTC.1  2.7458238 ⋯   1.000668 19.482778  1.000139 1.018392\n",
       "E11.AAACCTGCACCCATTC.1  1.9579134 ⋯   1.000071  1.211624  1.006995 1.000126\n",
       "                       Patt.75  Patt.76   Patt.77  Patt.78    Patt.79  Patt.80 \n",
       "E11.AAACCTGAGATGTAAC.1 1.000000  1.000000 1.000000   1.000000 1.000000 1.000000\n",
       "E11.AAACCTGAGGCAATTA.1 1.000180 60.656578 1.002151  37.660817 1.000047 1.000198\n",
       "E11.AAACCTGAGTAGCGGT.1 1.000022  1.000262 1.000022   1.170338 1.001827 1.000559\n",
       "E11.AAACCTGAGTGGAGTC.1 1.000161 41.925894 1.001989   8.626739 1.021516 1.001392\n",
       "E11.AAACCTGCAAGTTGTC.1 1.000059  1.000044 1.010160   1.000184 1.000493 3.845403\n",
       "E11.AAACCTGCACCCATTC.1 1.000037  1.001017 1.003272 248.890062 1.000286 1.000414"
      ]
     },
     "metadata": {},
     "output_type": "display_data"
    }
   ],
   "source": [
    "#Show the subset of the data\n",
    "head(dat_phenotype)"
   ]
  },
  {
   "cell_type": "code",
   "execution_count": 22,
   "metadata": {},
   "outputs": [
    {
     "data": {
      "text/html": [
       "<table>\n",
       "<caption>A data.frame: 6 × 8</caption>\n",
       "<thead>\n",
       "\t<tr><th scope=col>X</th><th scope=col>id</th><th scope=col>gene_short_name</th><th scope=col>num_cells_expressed</th><th scope=col>mean_expr</th><th scope=col>sd_exprs</th><th scope=col>bcv</th><th scope=col>percent_detection</th></tr>\n",
       "\t<tr><th scope=col>&lt;chr&gt;</th><th scope=col>&lt;chr&gt;</th><th scope=col>&lt;chr&gt;</th><th scope=col>&lt;int&gt;</th><th scope=col>&lt;dbl&gt;</th><th scope=col>&lt;dbl&gt;</th><th scope=col>&lt;dbl&gt;</th><th scope=col>&lt;dbl&gt;</th></tr>\n",
       "</thead>\n",
       "<tbody>\n",
       "\t<tr><td>ENSMUSG00000051951</td><td>ENSMUSG00000051951</td><td>Xkr4   </td><td>  253</td><td>2.119135e-03</td><td>0.046522355</td><td>  481.95455</td><td>0.209430151</td></tr>\n",
       "\t<tr><td>ENSMUSG00000089699</td><td>ENSMUSG00000089699</td><td>Gm1992 </td><td>    4</td><td>3.311149e-05</td><td>0.005754187</td><td>30200.24999</td><td>0.003311149</td></tr>\n",
       "\t<tr><td>ENSMUSG00000102343</td><td>ENSMUSG00000102343</td><td>Gm37381</td><td>   58</td><td>4.801166e-04</td><td>0.021906392</td><td> 2081.84482</td><td>0.048011655</td></tr>\n",
       "\t<tr><td>ENSMUSG00000025900</td><td>ENSMUSG00000025900</td><td>Rp1    </td><td>11816</td><td>1.694811e-01</td><td>0.635347014</td><td>   14.05333</td><td>9.781133075</td></tr>\n",
       "\t<tr><td>ENSMUSG00000109048</td><td>ENSMUSG00000109048</td><td>Rp1    </td><td>    0</td><td>0.000000e+00</td><td>0.000000000</td><td>         NA</td><td>0.000000000</td></tr>\n",
       "\t<tr><td>ENSMUSG00000025902</td><td>ENSMUSG00000025902</td><td>Sox17  </td><td>  108</td><td>1.622463e-03</td><td>0.077612551</td><td> 2288.30757</td><td>0.089401013</td></tr>\n",
       "</tbody>\n",
       "</table>\n"
      ],
      "text/latex": [
       "A data.frame: 6 × 8\n",
       "\\begin{tabular}{r|llllllll}\n",
       " X & id & gene\\_short\\_name & num\\_cells\\_expressed & mean\\_expr & sd\\_exprs & bcv & percent\\_detection\\\\\n",
       " <chr> & <chr> & <chr> & <int> & <dbl> & <dbl> & <dbl> & <dbl>\\\\\n",
       "\\hline\n",
       "\t ENSMUSG00000051951 & ENSMUSG00000051951 & Xkr4    &   253 & 2.119135e-03 & 0.046522355 &   481.95455 & 0.209430151\\\\\n",
       "\t ENSMUSG00000089699 & ENSMUSG00000089699 & Gm1992  &     4 & 3.311149e-05 & 0.005754187 & 30200.24999 & 0.003311149\\\\\n",
       "\t ENSMUSG00000102343 & ENSMUSG00000102343 & Gm37381 &    58 & 4.801166e-04 & 0.021906392 &  2081.84482 & 0.048011655\\\\\n",
       "\t ENSMUSG00000025900 & ENSMUSG00000025900 & Rp1     & 11816 & 1.694811e-01 & 0.635347014 &    14.05333 & 9.781133075\\\\\n",
       "\t ENSMUSG00000109048 & ENSMUSG00000109048 & Rp1     &     0 & 0.000000e+00 & 0.000000000 &          NA & 0.000000000\\\\\n",
       "\t ENSMUSG00000025902 & ENSMUSG00000025902 & Sox17   &   108 & 1.622463e-03 & 0.077612551 &  2288.30757 & 0.089401013\\\\\n",
       "\\end{tabular}\n"
      ],
      "text/markdown": [
       "\n",
       "A data.frame: 6 × 8\n",
       "\n",
       "| X &lt;chr&gt; | id &lt;chr&gt; | gene_short_name &lt;chr&gt; | num_cells_expressed &lt;int&gt; | mean_expr &lt;dbl&gt; | sd_exprs &lt;dbl&gt; | bcv &lt;dbl&gt; | percent_detection &lt;dbl&gt; |\n",
       "|---|---|---|---|---|---|---|---|\n",
       "| ENSMUSG00000051951 | ENSMUSG00000051951 | Xkr4    |   253 | 2.119135e-03 | 0.046522355 |   481.95455 | 0.209430151 |\n",
       "| ENSMUSG00000089699 | ENSMUSG00000089699 | Gm1992  |     4 | 3.311149e-05 | 0.005754187 | 30200.24999 | 0.003311149 |\n",
       "| ENSMUSG00000102343 | ENSMUSG00000102343 | Gm37381 |    58 | 4.801166e-04 | 0.021906392 |  2081.84482 | 0.048011655 |\n",
       "| ENSMUSG00000025900 | ENSMUSG00000025900 | Rp1     | 11816 | 1.694811e-01 | 0.635347014 |    14.05333 | 9.781133075 |\n",
       "| ENSMUSG00000109048 | ENSMUSG00000109048 | Rp1     |     0 | 0.000000e+00 | 0.000000000 |          NA | 0.000000000 |\n",
       "| ENSMUSG00000025902 | ENSMUSG00000025902 | Sox17   |   108 | 1.622463e-03 | 0.077612551 |  2288.30757 | 0.089401013 |\n",
       "\n"
      ],
      "text/plain": [
       "  X                  id                 gene_short_name num_cells_expressed\n",
       "1 ENSMUSG00000051951 ENSMUSG00000051951 Xkr4              253              \n",
       "2 ENSMUSG00000089699 ENSMUSG00000089699 Gm1992              4              \n",
       "3 ENSMUSG00000102343 ENSMUSG00000102343 Gm37381            58              \n",
       "4 ENSMUSG00000025900 ENSMUSG00000025900 Rp1             11816              \n",
       "5 ENSMUSG00000109048 ENSMUSG00000109048 Rp1                 0              \n",
       "6 ENSMUSG00000025902 ENSMUSG00000025902 Sox17             108              \n",
       "  mean_expr    sd_exprs    bcv         percent_detection\n",
       "1 2.119135e-03 0.046522355   481.95455 0.209430151      \n",
       "2 3.311149e-05 0.005754187 30200.24999 0.003311149      \n",
       "3 4.801166e-04 0.021906392  2081.84482 0.048011655      \n",
       "4 1.694811e-01 0.635347014    14.05333 9.781133075      \n",
       "5 0.000000e+00 0.000000000          NA 0.000000000      \n",
       "6 1.622463e-03 0.077612551  2288.30757 0.089401013      "
      ]
     },
     "metadata": {},
     "output_type": "display_data"
    }
   ],
   "source": [
    "#Show the subset of the data\n",
    "head(dat_feature)"
   ]
  },
  {
   "cell_type": "markdown",
   "metadata": {},
   "source": [
    "Below procedure requires a lots of memory, so I partially performed analysis in a HPC cluster"
   ]
  },
  {
   "cell_type": "code",
   "execution_count": null,
   "metadata": {},
   "outputs": [],
   "source": [
    "#Creat Seurat class object\n",
    "colnames(dat_count) <- rownames(dat_phenotype)\n",
    "rownames(dat_count) <- rownames(dat_feature)\n",
    "dat <- CreateSeuratObject(counts = dat_count, project = \"Clark_P2_Retina\", meta.data = dat_phenotype)"
   ]
  },
  {
   "cell_type": "code",
   "execution_count": 30,
   "metadata": {},
   "outputs": [
    {
     "data": {
      "text/html": [
       "<ol class=list-inline>\n",
       "\t<li>'dat_count'</li>\n",
       "\t<li>'dat_feature'</li>\n",
       "\t<li>'dat_phenotype'</li>\n",
       "\t<li>'data_feature'</li>\n",
       "</ol>\n"
      ],
      "text/latex": [
       "\\begin{enumerate*}\n",
       "\\item 'dat\\_count'\n",
       "\\item 'dat\\_feature'\n",
       "\\item 'dat\\_phenotype'\n",
       "\\item 'data\\_feature'\n",
       "\\end{enumerate*}\n"
      ],
      "text/markdown": [
       "1. 'dat_count'\n",
       "2. 'dat_feature'\n",
       "3. 'dat_phenotype'\n",
       "4. 'data_feature'\n",
       "\n",
       "\n"
      ],
      "text/plain": [
       "[1] \"dat_count\"     \"dat_feature\"   \"dat_phenotype\" \"data_feature\" "
      ]
     },
     "metadata": {},
     "output_type": "display_data"
    }
   ],
   "source": [
    "#Leave only cells in P2\n",
    "dat <- subset(dat, subset = (age==\"P2\"))"
   ]
  },
  {
   "cell_type": "code",
   "execution_count": null,
   "metadata": {},
   "outputs": [],
   "source": [
    "#Save dat object in RDS format\n",
    " saveRDS(dat, file=\"Clark_P2_Retina.rds\")"
   ]
  },
  {
   "cell_type": "markdown",
   "metadata": {},
   "source": [
    "From here, we go back to local laptop environment"
   ]
  },
  {
   "cell_type": "code",
   "execution_count": 2,
   "metadata": {},
   "outputs": [],
   "source": [
    "#Load the library\n",
    "library(Matrix)\n",
    "library(Seurat)\n",
    "\n",
    "#Load dat object\n",
    "dat <- readRDS(file = \"Clark_P2_Retina.rds\")"
   ]
  },
  {
   "cell_type": "code",
   "execution_count": 3,
   "metadata": {},
   "outputs": [
    {
     "name": "stdout",
     "output_type": "stream",
     "text": [
      "Formal class 'Seurat' [package \"Seurat\"] with 12 slots\n",
      "  ..@ assays      :List of 1\n",
      "  .. ..$ RNA:Formal class 'Assay' [package \"Seurat\"] with 7 slots\n",
      "  .. .. .. ..@ counts       :Formal class 'dgCMatrix' [package \"Matrix\"] with 6 slots\n",
      "  .. .. .. .. .. ..@ i       : int [1:18425089] 16 26 62 63 70 150 152 179 181 212 ...\n",
      "  .. .. .. .. .. ..@ p       : int [1:15583] 0 1144 2376 3256 4695 6018 7240 8903 10089 11395 ...\n",
      "  .. .. .. .. .. ..@ Dim     : int [1:2] 27998 15582\n",
      "  .. .. .. .. .. ..@ Dimnames:List of 2\n",
      "  .. .. .. .. .. .. ..$ : chr [1:27998] \"1\" \"2\" \"3\" \"4\" ...\n",
      "  .. .. .. .. .. .. ..$ : chr [1:15582] \"P2_rep2.AAACCTGAGATAGGAG.1\" \"P2_rep2.AAACCTGAGCATCATC.1\" \"P2_rep2.AAACCTGAGCCTATGT.1\" \"P2_rep2.AAACCTGAGCTAGCCC.1\" ...\n",
      "  .. .. .. .. .. ..@ x       : num [1:18425089] 1 3 5 1 1 1 1 1 1 1 ...\n",
      "  .. .. .. .. .. ..@ factors : list()\n",
      "  .. .. .. ..@ data         :Formal class 'dgCMatrix' [package \"Matrix\"] with 6 slots\n",
      "  .. .. .. .. .. ..@ i       : int [1:18425089] 16 26 62 63 70 150 152 179 181 212 ...\n",
      "  .. .. .. .. .. ..@ p       : int [1:15583] 0 1144 2376 3256 4695 6018 7240 8903 10089 11395 ...\n",
      "  .. .. .. .. .. ..@ Dim     : int [1:2] 27998 15582\n",
      "  .. .. .. .. .. ..@ Dimnames:List of 2\n",
      "  .. .. .. .. .. .. ..$ : chr [1:27998] \"1\" \"2\" \"3\" \"4\" ...\n",
      "  .. .. .. .. .. .. ..$ : chr [1:15582] \"P2_rep2.AAACCTGAGATAGGAG.1\" \"P2_rep2.AAACCTGAGCATCATC.1\" \"P2_rep2.AAACCTGAGCCTATGT.1\" \"P2_rep2.AAACCTGAGCTAGCCC.1\" ...\n",
      "  .. .. .. .. .. ..@ x       : num [1:18425089] 1 3 5 1 1 1 1 1 1 1 ...\n",
      "  .. .. .. .. .. ..@ factors : list()\n",
      "  .. .. .. ..@ scale.data   : num[0 , 0 ] \n",
      "  .. .. .. ..@ key          : chr \"rna_\"\n",
      "  .. .. .. ..@ var.features : logi(0) \n",
      "  .. .. .. ..@ meta.features:'data.frame':\t27998 obs. of  0 variables\n",
      "  .. .. .. ..@ misc         : NULL\n",
      "  ..@ meta.data   :'data.frame':\t15582 obs. of  103 variables:\n",
      "  .. ..$ orig.ident         : Factor w/ 1 level \"Clark_P2_Retina\": 1 1 1 1 1 1 1 1 1 1 ...\n",
      "  .. ..$ nCount_RNA         : num [1:15582] 1771 2061 1563 2424 2204 ...\n",
      "  .. ..$ nFeature_RNA       : int [1:15582] 1144 1232 880 1439 1323 1222 1663 1186 1306 1115 ...\n",
      "  .. ..$ barcode            : chr [1:15582] \"P2_rep2.AAACCTGAGATAGGAG-1\" \"P2_rep2.AAACCTGAGCATCATC-1\" \"P2_rep2.AAACCTGAGCCTATGT-1\" \"P2_rep2.AAACCTGAGCTAGCCC-1\" ...\n",
      "  .. ..$ sample             : chr [1:15582] \"P2_rep2\" \"P2_rep2\" \"P2_rep2\" \"P2_rep2\" ...\n",
      "  .. ..$ age                : chr [1:15582] \"P2\" \"P2\" \"P2\" \"P2\" ...\n",
      "  .. ..$ Size_Factor        : num [1:15582] 1.1 1.28 0.97 1.5 1.37 ...\n",
      "  .. ..$ num_genes_expressed: int [1:15582] 1144 1232 880 1439 1323 1222 1663 1186 1306 1115 ...\n",
      "  .. ..$ Total_mRNAs        : int [1:15582] 1771 2061 1563 2424 2204 2055 3097 2018 2220 1724 ...\n",
      "  .. ..$ CellType           : chr [1:15582] \"Rods\" \"RPCs\" \"Neurogenic Cells\" \"Amacrine Cells\" ...\n",
      "  .. ..$ raw_cluster        : int [1:15582] 58 44 69 13 19 72 20 66 44 58 ...\n",
      "  .. ..$ new_CellType       : chr [1:15582] \"Cones\" \"Late RPCs\" \"Photoreceptor Precursors\" \"Amacrine Cells\" ...\n",
      "  .. ..$ largeVis1          : num [1:15582] 6.39 -9.35 3.12 -3.84 -6.48 ...\n",
      "  .. ..$ largeVis2          : num [1:15582] -4.09 15.69 2.61 -7.86 13.32 ...\n",
      "  .. ..$ largeVis3          : num [1:15582] -15.53 2.49 -4.82 -5.76 1.86 ...\n",
      "  .. ..$ newCellType        : logi [1:15582] NA NA NA NA NA NA ...\n",
      "  .. ..$ umap_cluster       : int [1:15582] 48 94 110 133 154 170 140 5 154 51 ...\n",
      "  .. ..$ umap_coord1        : num [1:15582] -2.56 -3.07 -1.37 1.13 -3.26 ...\n",
      "  .. ..$ umap_coord2        : num [1:15582] 2.622 -0.44 1.356 1.535 -0.328 ...\n",
      "  .. ..$ umap_coord3        : num [1:15582] 1.45 -1.84 1.06 5.38 -2.59 ...\n",
      "  .. ..$ umap_CellType      : chr [1:15582] \"Photoreceptor Precursors\" \"Late RPCs\" \"Photoreceptor Precursors\" \"Amacrine Cells\" ...\n",
      "  .. ..$ used_for_pseudotime: logi [1:15582] FALSE FALSE FALSE TRUE TRUE FALSE ...\n",
      "  .. ..$ pattern_match      : logi [1:15582] TRUE TRUE TRUE TRUE TRUE TRUE ...\n",
      "  .. ..$ Patt.1             : num [1:15582] 1 1 1 1 1 ...\n",
      "  .. ..$ Patt.2             : num [1:15582] 1 1 1 1 1 ...\n",
      "  .. ..$ Patt.3             : num [1:15582] 1 1 1 1.01 1 ...\n",
      "  .. ..$ Patt.4             : num [1:15582] 1 1 1 1 1 ...\n",
      "  .. ..$ Patt.5             : num [1:15582] 1 1 1 1 1 ...\n",
      "  .. ..$ Patt.6             : num [1:15582] 1 1 1 1 1 ...\n",
      "  .. ..$ Patt.7             : num [1:15582] 1 1 1 1 1 ...\n",
      "  .. ..$ Patt.8             : num [1:15582] 1 1 1 1 1 ...\n",
      "  .. ..$ Patt.9             : num [1:15582] 1 1 1 1 1 ...\n",
      "  .. ..$ Patt.10            : num [1:15582] 1 1 1 1 1 ...\n",
      "  .. ..$ Patt.11            : num [1:15582] 4883 1 1 1 1 ...\n",
      "  .. ..$ Patt.12            : num [1:15582] 1 1 1 1 1 ...\n",
      "  .. ..$ Patt.13            : num [1:15582] 1.01 1.02 1 1 1 ...\n",
      "  .. ..$ Patt.14            : num [1:15582] 1.01 6.50e+06 1.00 2.36e+01 1.00 ...\n",
      "  .. ..$ Patt.15            : num [1:15582] 1 1 1 1.41 1 ...\n",
      "  .. ..$ Patt.16            : num [1:15582] 1 1 1 1 1 ...\n",
      "  .. ..$ Patt.17            : num [1:15582] 1 1 1 7.46 1 ...\n",
      "  .. ..$ Patt.18            : num [1:15582] 1 1 1 1 1 ...\n",
      "  .. ..$ Patt.19            : num [1:15582] 1 1 1 1 1 ...\n",
      "  .. ..$ Patt.20            : num [1:15582] 1 1 1 4.7 1 ...\n",
      "  .. ..$ Patt.21            : num [1:15582] 2.73 1 1 1 1 ...\n",
      "  .. ..$ Patt.22            : num [1:15582] 1 13.6 1 51.1 1 ...\n",
      "  .. ..$ Patt.23            : num [1:15582] 4.3 3588.82 2.72 4.83 1 ...\n",
      "  .. ..$ Patt.24            : num [1:15582] 1 1 1 1 1 ...\n",
      "  .. ..$ Patt.25            : num [1:15582] 1.02 1 1 1 1 ...\n",
      "  .. ..$ Patt.26            : num [1:15582] 1 1 1 1 1 ...\n",
      "  .. ..$ Patt.27            : num [1:15582] 1 1 1 1 1 ...\n",
      "  .. ..$ Patt.28            : num [1:15582] 1 1.86 1 66.23 1 ...\n",
      "  .. ..$ Patt.29            : num [1:15582] 1 4.98 1 44.66 1 ...\n",
      "  .. ..$ Patt.30            : num [1:15582] 196.17 1 1.01 1 1 ...\n",
      "  .. ..$ Patt.31            : num [1:15582] 1 1 1 1.02 1 ...\n",
      "  .. ..$ Patt.32            : num [1:15582] 1 1 1 1 1 ...\n",
      "  .. ..$ Patt.33            : num [1:15582] 1 1 1 1 1 ...\n",
      "  .. ..$ Patt.34            : num [1:15582] 1.02 1 1 1 1 ...\n",
      "  .. ..$ Patt.35            : num [1:15582] 1 1 1 1 1 ...\n",
      "  .. ..$ Patt.36            : num [1:15582] 63663 196 1 1 1 ...\n",
      "  .. ..$ Patt.37            : num [1:15582] 1 1 1 1 1 ...\n",
      "  .. ..$ Patt.38            : num [1:15582] 1 1 1 1 1 ...\n",
      "  .. ..$ Patt.39            : num [1:15582] 1.02 1 1 1 1 ...\n",
      "  .. ..$ Patt.40            : num [1:15582] 1 1599.69 1 1.03 1 ...\n",
      "  .. ..$ Patt.41            : num [1:15582] 1 1 1 1 1 ...\n",
      "  .. ..$ Patt.42            : num [1:15582] 1 1 1 1 1 ...\n",
      "  .. ..$ Patt.43            : num [1:15582] 1 1 1 1 1 ...\n",
      "  .. ..$ Patt.44            : num [1:15582] 1 1 1 1 1 ...\n",
      "  .. ..$ Patt.45            : num [1:15582] 1 1.01 1 2358.89 1 ...\n",
      "  .. ..$ Patt.46            : num [1:15582] 245 291 1 1 1 ...\n",
      "  .. ..$ Patt.47            : num [1:15582] 1 1 1 1 1 ...\n",
      "  .. ..$ Patt.48            : num [1:15582] 1 1 1 13 1 ...\n",
      "  .. ..$ Patt.49            : num [1:15582] 1.48 42.24 220.55 1.2 1 ...\n",
      "  .. ..$ Patt.50            : num [1:15582] 1 1 1 1 1 ...\n",
      "  .. ..$ Patt.51            : num [1:15582] 74.59 1.01 64.69 1 1 ...\n",
      "  .. ..$ Patt.52            : num [1:15582] 1.01 1 1177.34 1 1 ...\n",
      "  .. ..$ Patt.53            : num [1:15582] 1 1 1 1 1 ...\n",
      "  .. ..$ Patt.54            : num [1:15582] 27.6 1 1 59.2 1 ...\n",
      "  .. ..$ Patt.55            : num [1:15582] 383.8 1 5858.5 38.9 1 ...\n",
      "  .. ..$ Patt.56            : num [1:15582] 1 1 1 1 1 ...\n",
      "  .. ..$ Patt.57            : num [1:15582] 1 30.3 1 1 1 ...\n",
      "  .. ..$ Patt.58            : num [1:15582] 1 1 4.81 13.27 1 ...\n",
      "  .. ..$ Patt.59            : num [1:15582] 356 1 1 107 1 ...\n",
      "  .. ..$ Patt.60            : num [1:15582] 1 1 1 1 1 ...\n",
      "  .. ..$ Patt.61            : num [1:15582] 1 1 1 81.8 1 ...\n",
      "  .. ..$ Patt.62            : num [1:15582] 1 6.59 1 1 1 ...\n",
      "  .. ..$ Patt.63            : num [1:15582] 1 1 1 1 1 ...\n",
      "  .. ..$ Patt.64            : num [1:15582] 1 1 1 1 1 ...\n",
      "  .. ..$ Patt.65            : num [1:15582] 393.4 1 1 21.8 1 ...\n",
      "  .. ..$ Patt.66            : num [1:15582] 1.01 1.94 1 1 1 ...\n",
      "  .. ..$ Patt.67            : num [1:15582] 1 1 1 1.22 1 ...\n",
      "  .. ..$ Patt.68            : num [1:15582] 1 1.02 1 88.66 1 ...\n",
      "  .. ..$ Patt.69            : num [1:15582] 1 1 1 1 1 ...\n",
      "  .. ..$ Patt.70            : num [1:15582] 1 1.03 1 1.84 1 ...\n",
      "  .. ..$ Patt.71            : num [1:15582] 1 352.15 1 8.41 1 ...\n",
      "  .. ..$ Patt.72            : num [1:15582] 1 17 459.76 1.01 1 ...\n",
      "  .. ..$ Patt.73            : num [1:15582] 10.2 1 1 172 1 ...\n",
      "  .. ..$ Patt.74            : num [1:15582] 1 107 1 1 1 ...\n",
      "  .. ..$ Patt.75            : num [1:15582] 1 1 1 1 1 ...\n",
      "  .. ..$ Patt.76            : num [1:15582] 1 1 1 1 1 ...\n",
      "  .. .. [list output truncated]\n",
      "  ..@ active.assay: chr \"RNA\"\n",
      "  ..@ active.ident: Factor w/ 1 level \"Clark_P2_Retina\": 1 1 1 1 1 1 1 1 1 1 ...\n",
      "  .. ..- attr(*, \"names\")= chr [1:15582] \"P2_rep2.AAACCTGAGATAGGAG.1\" \"P2_rep2.AAACCTGAGCATCATC.1\" \"P2_rep2.AAACCTGAGCCTATGT.1\" \"P2_rep2.AAACCTGAGCTAGCCC.1\" ...\n",
      "  ..@ graphs      : list()\n",
      "  ..@ neighbors   : list()\n",
      "  ..@ reductions  : list()\n",
      "  ..@ project.name: chr \"Clark_P2_Retina\"\n",
      "  ..@ misc        : list()\n",
      "  ..@ version     :Classes 'package_version', 'numeric_version'  hidden list of 1\n",
      "  .. ..$ : int [1:3] 3 0 0\n",
      "  ..@ commands    : list()\n",
      "  ..@ tools       : list()\n"
     ]
    }
   ],
   "source": [
    "#Structure of dat object\n",
    "str(dat)"
   ]
  },
  {
   "cell_type": "code",
   "execution_count": null,
   "metadata": {},
   "outputs": [],
   "source": []
  }
 ],
 "metadata": {
  "kernelspec": {
   "display_name": "R",
   "language": "R",
   "name": "ir"
  },
  "language_info": {
   "codemirror_mode": "r",
   "file_extension": ".r",
   "mimetype": "text/x-r-source",
   "name": "R",
   "pygments_lexer": "r",
   "version": "3.5.2"
  }
 },
 "nbformat": 4,
 "nbformat_minor": 2
}
